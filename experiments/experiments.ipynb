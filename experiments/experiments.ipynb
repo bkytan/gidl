{
 "cells": [
  {
   "cell_type": "markdown",
   "metadata": {},
   "source": [
    "## Numerical Experiments for the paper \"Group Invariant Dictionary Learning\""
   ]
  },
  {
   "cell_type": "code",
   "execution_count": null,
   "metadata": {},
   "outputs": [],
   "source": [
    "import gidl\n",
    "import numpy as np\n",
    "import time"
   ]
  },
  {
   "cell_type": "markdown",
   "metadata": {},
   "source": [
    "### Experiment A: Learning Shift Invariant Dictionaries for ECG Data"
   ]
  },
  {
   "cell_type": "code",
   "execution_count": null,
   "metadata": {},
   "outputs": [],
   "source": [
    "ECG_Data = np.load('datasets/100ecg.npy')[:,:1000]  # (201, 1000)"
   ]
  },
  {
   "cell_type": "code",
   "execution_count": null,
   "metadata": {},
   "outputs": [],
   "source": [
    "# Continuously shift invariant\n",
    "\n",
    "# (i) q = 1\n",
    "np.random.seed(626)\n",
    "expA_cts_q1 = gidl.CtsShiftDL(ECG_Data, reg_param=0.2, num_generators=1)\n",
    "expA_cts_q1.learn_dict_mul(20, PLOT=2)\n",
    "\n",
    "# (ii) q = 2\n",
    "np.random.seed(626)\n",
    "expA_cts_q2 = gidl.CtsShiftDL(ECG_Data, reg_param=0.2, num_generators=2)\n",
    "expA_cts_q2.learn_dict_mul(20, PLOT=2)\n",
    "\n",
    "# (iii) q = 3\n",
    "np.random.seed(626)\n",
    "expA_cts_q3 = gidl.CtsShiftDL(ECG_Data, reg_param=0.1, num_generators=3)\n",
    "expA_cts_q3.learn_dict_mul(20, PLOT=2)\n",
    "\n",
    "# (iv) q = 4\n",
    "np.random.seed(626)\n",
    "expA_cts_q4 = gidl.CtsShiftDL(ECG_Data, reg_param=0.1, num_generators=4)\n",
    "expA_cts_q4.learn_dict_mul(20, PLOT=2)"
   ]
  },
  {
   "cell_type": "code",
   "execution_count": null,
   "metadata": {},
   "outputs": [],
   "source": [
    "# Convolutional DL\n",
    "\n",
    "np.random.seed(626)\n",
    "expA_conv = gidl.ConvDL(ECG_Data, reg_param=0.1)\n",
    "expA_conv.learn_dict_mul(20, PLOT=2)"
   ]
  },
  {
   "cell_type": "code",
   "execution_count": null,
   "metadata": {},
   "outputs": [],
   "source": [
    "# Convolutional DL with interpolation\n",
    "\n",
    "# (i) Add 1 interpolation point per shift\n",
    "np.random.seed(626)\n",
    "expA_convinterp_ndiv1 = gidl.ConvInterpDL(ECG_Data, 1, reg_param=0.1)\n",
    "expA_convinterp_ndiv1.learn_dict_mul(20, PLOT=2)\n",
    "\n",
    "# (ii) Add 3 interpolation points per shift\n",
    "np.random.seed(626)\n",
    "expA_convinterp_ndiv2 = gidl.ConvInterpDL(ECG_Data, 2, reg_param=0.1)\n",
    "expA_convinterp_ndiv2.learn_dict_mul(20, PLOT=2)"
   ]
  },
  {
   "cell_type": "code",
   "execution_count": null,
   "metadata": {},
   "outputs": [],
   "source": [
    "# Regular DL\n",
    "\n",
    "np.random.seed(626)\n",
    "expA_reg = gidl.RegularDL(ECG_Data, reg_param=0.02)\n",
    "expA_reg.learn_dict_mul(100, PLOT=2)"
   ]
  },
  {
   "cell_type": "markdown",
   "metadata": {},
   "source": [
    "### Experiment B: Dictionary Learning for Synchronization"
   ]
  },
  {
   "cell_type": "code",
   "execution_count": null,
   "metadata": {},
   "outputs": [],
   "source": [
    "# (i) On q=1,2, without scaling variable\n",
    "\n",
    "DataFiles_B1 = ['datasets/Data_q1_unif.npy', 'datasets/Data_q2_unif.npy']                     # (3, 20, 1000)\n",
    "A_True_Files_B1 = ['datasets/OriginalDict_q1_unif.npy', 'datasets/OriginalDict_q2_unif.npy']  # (3, 20, 1)\n",
    "Num_Gen_B1 = [1, 2]\n",
    "\n",
    "nRepeats = 10\n",
    "timestart = time.strftime('%Y-%m-%d-%H%M%S')\n",
    "\n",
    "for i, (data_file, truth_file, q) in enumerate(zip(DataFiles_B1, A_True_Files_B1, Num_Gen_B1)):\n",
    "    data = np.load(data_file)\n",
    "    truth = np.load(truth_file)\n",
    "    for ii in range(nRepeats):\n",
    "        np.random.seed(627+ii)\n",
    "        save_directory = f\"output/{timestart}/{i+1}/\"\n",
    "\n",
    "        expB_sync = gidl.SyncDL(data, reg_param=0.1, num_generators=q)\n",
    "        expB_sync.learn_dict_mul(40, COMPARE=truth, ORA_DICT_TYPE='sync', SAVE_FOLDER_NAME=save_directory)"
   ]
  },
  {
   "cell_type": "code",
   "execution_count": null,
   "metadata": {},
   "outputs": [],
   "source": [
    "# (ii) On q=1,2, with scaling variable\n",
    "\n",
    "DataFiles_B2 = ['datasets/Data_q1.npy', 'datasets/Data_q2.npy']                               # (3, 20, 1000)\n",
    "A_True_Files_B2 = ['datasets/OriginalDict_q1.npy', 'datasets/OriginalDict_q2.npy']            # (3, 20, 1)\n",
    "Num_Gen_B2 = [1, 2]\n",
    "\n",
    "nRepeats = 10\n",
    "timestart = time.strftime('%Y-%m-%d-%H%M%S')\n",
    "\n",
    "for i, (data_file, truth_file, q) in enumerate(zip(DataFiles_B2, A_True_Files_B2, Num_Gen_B2)):\n",
    "    data = np.load(data_file)\n",
    "    truth = np.load(truth_file)\n",
    "    for ii in range(nRepeats):\n",
    "        np.random.seed(627+ii)\n",
    "        save_directory = f\"output/{timestart}/{i+1}/\"\n",
    "\n",
    "        expB_sync = gidl.SyncDL(data, reg_param=0.1, num_generators=q)\n",
    "        expB_sync.learn_dict_mul(40, COMPARE=truth, ORA_DICT_TYPE='sync', SAVE_FOLDER_NAME=save_directory)"
   ]
  }
 ],
 "metadata": {
  "interpreter": {
   "hash": "dd436903bf0ac2fd79cab88b0190ef7a7227fa1f867fd43acdfbdbe31df15387"
  },
  "kernelspec": {
   "display_name": "Python 3.9.7 64-bit ('gidl_env01': conda)",
   "language": "python",
   "name": "python3"
  },
  "language_info": {
   "codemirror_mode": {
    "name": "ipython",
    "version": 3
   },
   "file_extension": ".py",
   "mimetype": "text/x-python",
   "name": "python",
   "nbconvert_exporter": "python",
   "pygments_lexer": "ipython3",
   "version": "3.6.13"
  },
  "orig_nbformat": 4
 },
 "nbformat": 4,
 "nbformat_minor": 2
}
